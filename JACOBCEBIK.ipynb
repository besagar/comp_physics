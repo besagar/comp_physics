{
 "cells": [
  {
   "cell_type": "markdown",
   "metadata": {},
   "source": [
    "# Метод якобинского клуба."
   ]
  },
  {
   "cell_type": "code",
   "execution_count": 1,
   "metadata": {},
   "outputs": [],
   "source": [
    "import numpy as np"
   ]
  },
  {
   "cell_type": "markdown",
   "metadata": {},
   "source": [
    "Некто матрица поворота:"
   ]
  },
  {
   "cell_type": "code",
   "execution_count": 2,
   "metadata": {},
   "outputs": [],
   "source": [
    "def Rot ( i , j , N , s ):\n",
    "    \n",
    "    Q = np.eye(N)\n",
    "    \n",
    "    Q[i][i] =   np.cos(s)\n",
    "    Q[j][j] =   np.cos(s)\n",
    "    Q[i][j] = - np.sin(s)\n",
    "    Q[j][i] =   np.sin(s)\n",
    "    \n",
    "    return Q"
   ]
  },
  {
   "cell_type": "markdown",
   "metadata": {},
   "source": [
    "Некто метод Якоби:"
   ]
  },
  {
   "cell_type": "code",
   "execution_count": 3,
   "metadata": {},
   "outputs": [],
   "source": [
    "def Jac ( A, k = 27182 , tol = 1e-6 ):\n",
    "    \n",
    "    N = A.shape[0]\n",
    "    \n",
    "    p = 0\n",
    "    \n",
    "    while p < k:\n",
    "        \n",
    "        p += 1\n",
    "        \n",
    "        d = tol\n",
    "        \n",
    "        for i in range (N):\n",
    "            \n",
    "            for j in range ( i + 1 , N ):\n",
    "                \n",
    "                if ( np.abs ( A [i , j] ) > d ) :\n",
    "                    \n",
    "                    d = np.abs ( A [i , j] )\n",
    "                    \n",
    "                    s = np.arctan ( 2 * A [i , j] / ( A [j , j] - A [i , i] ) ) / 2.\n",
    "                    \n",
    "                G = Rot ( i , j , N , s )\n",
    "            \n",
    "                A = G @ A @ G.T\n",
    "    \n",
    "    return np.diagonal ( A )"
   ]
  },
  {
   "cell_type": "markdown",
   "metadata": {},
   "source": [
    "Некто идеальное сходство:"
   ]
  },
  {
   "cell_type": "code",
   "execution_count": 4,
   "metadata": {},
   "outputs": [
    {
     "name": "stdout",
     "output_type": "stream",
     "text": [
      "[[4 2 3]\n",
      " [2 9 7]\n",
      " [3 7 1]] [ 3.32165664 14.11279946 -3.43445609]\n"
     ]
    }
   ],
   "source": [
    "W = np.array ( [ [ 4 , 2 , 3 ] , [ 2 , 9 , 7 ] , [ 3 , 7 , 1 ] ] )  \n",
    "\n",
    "\n",
    "print( W , Jac(W) )"
   ]
  },
  {
   "cell_type": "code",
   "execution_count": 5,
   "metadata": {},
   "outputs": [
    {
     "data": {
      "text/plain": [
       "array([14.11279946,  3.32165664, -3.43445609])"
      ]
     },
     "execution_count": 5,
     "metadata": {},
     "output_type": "execute_result"
    }
   ],
   "source": [
    "np.linalg.eigvals(W)"
   ]
  }
 ],
 "metadata": {
  "kernelspec": {
   "display_name": "Python 3",
   "language": "python",
   "name": "python3"
  },
  "language_info": {
   "codemirror_mode": {
    "name": "ipython",
    "version": 3
   },
   "file_extension": ".py",
   "mimetype": "text/x-python",
   "name": "python",
   "nbconvert_exporter": "python",
   "pygments_lexer": "ipython3",
   "version": "3.6.5"
  }
 },
 "nbformat": 4,
 "nbformat_minor": 2
}
