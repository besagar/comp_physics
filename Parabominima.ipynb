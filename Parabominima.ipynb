{
 "cells": [
  {
   "cell_type": "markdown",
   "metadata": {},
   "source": [
    "# Метод парабол."
   ]
  },
  {
   "cell_type": "code",
   "execution_count": 2,
   "metadata": {
    "collapsed": true
   },
   "outputs": [],
   "source": [
    "import numpy as np"
   ]
  },
  {
   "cell_type": "code",
   "execution_count": 3,
   "metadata": {
    "collapsed": true
   },
   "outputs": [],
   "source": [
    "def f ( x ) :\n",
    "    \n",
    "    func = np.sin(x)\n",
    "    \n",
    "    return func"
   ]
  },
  {
   "cell_type": "markdown",
   "metadata": {},
   "source": [
    "Функция, находящая точку минимума параболы, проходящей через 3 определенные точки аппроксимируемой функции:"
   ]
  },
  {
   "cell_type": "code",
   "execution_count": 4,
   "metadata": {
    "collapsed": true
   },
   "outputs": [],
   "source": [
    "def XMin ( x1, x2, x3, func):\n",
    "    \n",
    "    X = x2 - 0.5 * ( ((x2 - x1)**2) * (func (x2) - func ( x3 )) - ((x2 - x3)**2) * (func (x2) - func ( x1 ))) / ( (x2 - x1) * (func (x2) - func ( x3 )) - (x2 - x3) * (func (x2) - func ( x1 )))\n",
    "    \n",
    "    return X"
   ]
  },
  {
   "cell_type": "markdown",
   "metadata": {},
   "source": [
    "Начальные условия:"
   ]
  },
  {
   "cell_type": "code",
   "execution_count": 5,
   "metadata": {
    "collapsed": true
   },
   "outputs": [],
   "source": [
    "a = 4 ; c = 5\n",
    "b = ( a + c ) / 2\n",
    "Eps = 10 ** (-3)\n",
    "\n",
    "minimum = XMin (a, b, c, f)"
   ]
  },
  {
   "cell_type": "markdown",
   "metadata": {},
   "source": [
    "Сама функция поиска:"
   ]
  },
  {
   "cell_type": "code",
   "execution_count": 6,
   "metadata": {},
   "outputs": [],
   "source": [
    "while abs ( minimum - b ) > Eps:\n",
    "                \n",
    "    dots = sorted ( [ a, b, c, minimum] ) # сортирует точки по возрастанию (для унимодальной на отрезке функции правомочно)\n",
    "    \n",
    "    Values = f (dots)\n",
    "    \n",
    "    FMax = max ( Values)\n",
    "     \n",
    "    \n",
    "    for i in range ( len(Values) ): # ищет индекс точки, в которой функция принимает наибольшее из четырех значение\n",
    "        if Values[i] == FMax:\n",
    "            break\n",
    "        \n",
    "    dots.remove ( dots [ i ] ) # убирает точку с этим индексом\n",
    "                     \n",
    "    a , b , c = dots   \n",
    "        \n",
    "    minimum = XMin (a, b, c, f)\n",
    "        "
   ]
  },
  {
   "cell_type": "code",
   "execution_count": 7,
   "metadata": {},
   "outputs": [
    {
     "name": "stdout",
     "output_type": "stream",
     "text": [
      "4.71238898037\n"
     ]
    }
   ],
   "source": [
    "print ( minimum )"
   ]
  }
 ],
 "metadata": {
  "kernelspec": {
   "display_name": "Python 3",
   "language": "python",
   "name": "python3"
  },
  "language_info": {
   "codemirror_mode": {
    "name": "ipython",
    "version": 3
   },
   "file_extension": ".py",
   "mimetype": "text/x-python",
   "name": "python",
   "nbconvert_exporter": "python",
   "pygments_lexer": "ipython3",
   "version": "3.6.3"
  }
 },
 "nbformat": 4,
 "nbformat_minor": 2
}
