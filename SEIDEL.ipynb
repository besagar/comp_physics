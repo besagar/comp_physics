{
 "cells": [
  {
   "cell_type": "markdown",
   "metadata": {},
   "source": [
    "# Забавный заголовок."
   ]
  },
  {
   "cell_type": "markdown",
   "metadata": {},
   "source": [
    "Юморной комментарий."
   ]
  },
  {
   "cell_type": "markdown",
   "metadata": {},
   "source": [
    "Seidel."
   ]
  },
  {
   "cell_type": "code",
   "execution_count": 1,
   "metadata": {},
   "outputs": [],
   "source": [
    "import numpy as np"
   ]
  },
  {
   "cell_type": "code",
   "execution_count": 2,
   "metadata": {},
   "outputs": [],
   "source": [
    "def SLAU ( Q , p , tol = 1e-6 ):\n",
    "    \n",
    "    N = len ( p )\n",
    "    \n",
    "    x0 = np.zeros ( N )\n",
    "    \n",
    "    x  = np.ones  ( N )\n",
    "    \n",
    "    converge = False\n",
    "    \n",
    "    while True:\n",
    "        \n",
    "        x = np.copy(x0)\n",
    "        \n",
    "        for i in range (N) :\n",
    "            \n",
    "            omega1 = np.sum ( [ Q[i , j] * x[j] for j in range ( i ) ]  )\n",
    "            \n",
    "            omega2 = np.sum ( [ Q[i , j] * x0[j] for j in range ( i + 1 , N ) ]  )\n",
    "            \n",
    "            x [ i ] = ( p[i] - ( omega1 + omega2 ) ) / Q [ i , i ]\n",
    "            \n",
    "        if  np.linalg.norm(x-x0) <= tol:\n",
    "            \n",
    "            break\n",
    "            \n",
    "        x0 = x\n",
    "        \n",
    "    return x0 "
   ]
  },
  {
   "cell_type": "code",
   "execution_count": 3,
   "metadata": {},
   "outputs": [],
   "source": [
    "Q = np.random.random((3,3))\n",
    "\n",
    "p = np.random.random((3,1))"
   ]
  },
  {
   "cell_type": "code",
   "execution_count": 4,
   "metadata": {},
   "outputs": [
    {
     "data": {
      "text/plain": [
       "array([[ 0.05927876],\n",
       "       [ 1.30721993],\n",
       "       [-0.57853045]])"
      ]
     },
     "execution_count": 4,
     "metadata": {},
     "output_type": "execute_result"
    }
   ],
   "source": [
    "np.linalg.solve(Q, p)"
   ]
  },
  {
   "cell_type": "code",
   "execution_count": 5,
   "metadata": {},
   "outputs": [
    {
     "data": {
      "text/plain": [
       "array([ 0.05927841,  1.30722021, -0.57853069])"
      ]
     },
     "execution_count": 5,
     "metadata": {},
     "output_type": "execute_result"
    }
   ],
   "source": [
    "SLAU(Q,p)"
   ]
  },
  {
   "cell_type": "markdown",
   "metadata": {},
   "source": [
    "Очень хорошо."
   ]
  }
 ],
 "metadata": {
  "kernelspec": {
   "display_name": "Python 3",
   "language": "python",
   "name": "python3"
  },
  "language_info": {
   "codemirror_mode": {
    "name": "ipython",
    "version": 3
   },
   "file_extension": ".py",
   "mimetype": "text/x-python",
   "name": "python",
   "nbconvert_exporter": "python",
   "pygments_lexer": "ipython3",
   "version": "3.6.5"
  }
 },
 "nbformat": 4,
 "nbformat_minor": 2
}
