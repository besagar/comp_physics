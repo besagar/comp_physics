{
 "cells": [
  {
   "cell_type": "markdown",
   "metadata": {},
   "source": [
    "# power iterangers"
   ]
  },
  {
   "cell_type": "code",
   "execution_count": 1,
   "metadata": {},
   "outputs": [],
   "source": [
    "import numpy as np"
   ]
  },
  {
   "cell_type": "code",
   "execution_count": 2,
   "metadata": {},
   "outputs": [],
   "source": [
    "def gorb ( s , x ):\n",
    "    \n",
    "    return - s * ( x - 1 ) * ( x + 1 ) "
   ]
  },
  {
   "cell_type": "markdown",
   "metadata": {},
   "source": [
    "конструируем Гамильтониан."
   ]
  },
  {
   "cell_type": "code",
   "execution_count": 3,
   "metadata": {},
   "outputs": [],
   "source": [
    "def matrix ( k , s ):\n",
    "\n",
    "    h = 2 / ( k - 1 )\n",
    "\n",
    "    D = np.zeros([ k , k ])\n",
    "\n",
    "    for i in range (1, k - 1 ):\n",
    "    \n",
    "        D[i, i - 1] = 1\n",
    "        D[i, i] = - ( 2 - gorb( s, i * h ) * h**2 ) \n",
    "        D[i, i + 1] = 1\n",
    "        \n",
    "    D[0 , 0] = np.inf\n",
    "    \n",
    "    D[ k-1 , k-1 ] = np.inf\n",
    "        \n",
    "    return np.linalg.inv( - D / h **2 )    "
   ]
  },
  {
   "cell_type": "code",
   "execution_count": 4,
   "metadata": {},
   "outputs": [],
   "source": [
    "def iterangers (N, matrix):\n",
    "    \n",
    "    # генерим random vector\n",
    "    \n",
    "    forma = np.shape(matrix)\n",
    "    \n",
    "    vector = np.random.rand( forma [0] )\n",
    "    \n",
    "    s = 0\n",
    "    \n",
    "    # метода\n",
    "    \n",
    "    while s < N: \n",
    "        \n",
    "        vector = ( matrix @ vector ) / np.linalg.norm ( matrix @ vector )\n",
    "        \n",
    "        s += 1\n",
    "    \n",
    "    value = vector @ ( matrix @ vector ) / ( vector @ vector )\n",
    "        \n",
    "    return value    "
   ]
  },
  {
   "cell_type": "code",
   "execution_count": 5,
   "metadata": {},
   "outputs": [],
   "source": [
    "hamo = matrix (1000, 0)"
   ]
  },
  {
   "cell_type": "code",
   "execution_count": 6,
   "metadata": {},
   "outputs": [],
   "source": [
    "wow = 1/iterangers(7777, hamo)"
   ]
  },
  {
   "cell_type": "code",
   "execution_count": 7,
   "metadata": {},
   "outputs": [
    {
     "data": {
      "text/plain": [
       "3.141591359074237"
      ]
     },
     "execution_count": 7,
     "metadata": {},
     "output_type": "execute_result"
    }
   ],
   "source": [
    "np.sqrt ( wow ) * 2"
   ]
  },
  {
   "cell_type": "markdown",
   "metadata": {},
   "source": [
    "Это число узнаваемо."
   ]
  }
 ],
 "metadata": {
  "kernelspec": {
   "display_name": "Python 3",
   "language": "python",
   "name": "python3"
  },
  "language_info": {
   "codemirror_mode": {
    "name": "ipython",
    "version": 3
   },
   "file_extension": ".py",
   "mimetype": "text/x-python",
   "name": "python",
   "nbconvert_exporter": "python",
   "pygments_lexer": "ipython3",
   "version": "3.6.5"
  }
 },
 "nbformat": 4,
 "nbformat_minor": 2
}
