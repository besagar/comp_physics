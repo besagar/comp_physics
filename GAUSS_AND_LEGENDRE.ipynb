{
 "cells": [
  {
   "cell_type": "markdown",
   "metadata": {},
   "source": [
    "# Самый удалой метод интегрирования из тех, что я видел."
   ]
  },
  {
   "cell_type": "code",
   "execution_count": 1,
   "metadata": {},
   "outputs": [],
   "source": [
    "import numpy as np"
   ]
  },
  {
   "cell_type": "markdown",
   "metadata": {},
   "source": [
    "Определим, так сказать, интегрируемую функцию:"
   ]
  },
  {
   "cell_type": "code",
   "execution_count": 2,
   "metadata": {},
   "outputs": [],
   "source": [
    "def integrand (x):\n",
    "    \n",
    "    return np.exp( 0.5 * x ) * ( 2 + np.cos ( 1 + np.sqrt (x) ) ) / np.sqrt ( 1 + 0.5 * x ) # Хоба!"
   ]
  },
  {
   "cell_type": "markdown",
   "metadata": {},
   "source": [
    "Это замена переменных. Линейная во всех отношениях. Она просто сводит интегрирование по произвольному интервалу к интегрированию от -1 до 1."
   ]
  },
  {
   "cell_type": "code",
   "execution_count": 3,
   "metadata": {},
   "outputs": [],
   "source": [
    "def normalized_function (function, interval, x):\n",
    "    \n",
    "    a, b = interval[0], interval[1] \n",
    "    \n",
    "    return function(( ( b - a ) / 2 ) * ( x + 1 + 2*a / (b - a) ) ) * ( b - a ) / 2 "
   ]
  },
  {
   "cell_type": "markdown",
   "metadata": {},
   "source": [
    "Собственно, интеграл. @ - это скалярное произведение для одномерных массивов в numpy. Функция leggauss сама вычисляет узлы и веса."
   ]
  },
  {
   "cell_type": "code",
   "execution_count": 4,
   "metadata": {},
   "outputs": [],
   "source": [
    "def integral (function, interval, n): \n",
    "    \n",
    "    knots, weights = np.polynomial.legendre.leggauss(n)\n",
    "    \n",
    "    return normalized_function (function, interval, knots) @ weights\n",
    "    "
   ]
  },
  {
   "cell_type": "markdown",
   "metadata": {},
   "source": [
    "Бесподобный результат:"
   ]
  },
  {
   "cell_type": "code",
   "execution_count": 12,
   "metadata": {},
   "outputs": [
    {
     "name": "stdout",
     "output_type": "stream",
     "text": [
      "4.4218749245\n",
      "4.42336658869\n",
      "4.42336825024\n",
      "4.4233684914\n"
     ]
    }
   ],
   "source": [
    "print(integral (integrand, [0.0, 2.0], 5)) \n",
    "\n",
    "print(integral (integrand, [0.0, 2.0], 50)) \n",
    "\n",
    "print(integral (integrand, [0.0, 2.0], 100)) \n",
    "\n",
    "print(integral (integrand, [0.0, 2.0], 1000)) "
   ]
  },
  {
   "cell_type": "markdown",
   "metadata": {},
   "source": [
    "Напоследок, пользуясь случаем, хочу передать привет маме, бабушке и Оскару!"
   ]
  }
 ],
 "metadata": {
  "kernelspec": {
   "display_name": "Python 3",
   "language": "python",
   "name": "python3"
  },
  "language_info": {
   "codemirror_mode": {
    "name": "ipython",
    "version": 3
   },
   "file_extension": ".py",
   "mimetype": "text/x-python",
   "name": "python",
   "nbconvert_exporter": "python",
   "pygments_lexer": "ipython3",
   "version": "3.6.5"
  }
 },
 "nbformat": 4,
 "nbformat_minor": 2
}
