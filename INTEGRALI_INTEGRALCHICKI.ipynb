{
 "cells": [
  {
   "cell_type": "markdown",
   "metadata": {},
   "source": [
    "# ЗАБОРИСТЫЕ ИНТЕГРАЛЫ."
   ]
  },
  {
   "cell_type": "markdown",
   "metadata": {},
   "source": [
    "Предисловие: красные надписи - это провокация, несмотря на них, всё прекрасно работает. Также GitHub почему-то не читает значки интегралов, хотя в самом Jupiter они отображаются."
   ]
  },
  {
   "cell_type": "code",
   "execution_count": 19,
   "metadata": {},
   "outputs": [],
   "source": [
    "import numpy as np"
   ]
  },
  {
   "cell_type": "code",
   "execution_count": 26,
   "metadata": {},
   "outputs": [],
   "source": [
    "a, b = 0, np.pi ** 2 / 4\n",
    "\n",
    "def integrand (x):\n",
    "    \n",
    "    return 1 / np.sin ( np.sqrt(x) )"
   ]
  },
  {
   "cell_type": "code",
   "execution_count": 27,
   "metadata": {},
   "outputs": [],
   "source": [
    "def integrate_rectangles (f, a, b, n ):\n",
    "    \n",
    "    x = np.linspace( a, b, n )\n",
    "    \n",
    "    y = f (x)\n",
    "    \n",
    "    dx = ( b - a ) / n\n",
    "    \n",
    "    S = 0\n",
    "    \n",
    "    for i in range (n-1) :\n",
    "        \n",
    "        S += f( x[i+1] ) * dx  #прямоугольники правые, другие тут плохо смотрятся из-за нуля\n",
    "        \n",
    "    return S"
   ]
  },
  {
   "cell_type": "markdown",
   "metadata": {},
   "source": [
    "Т.к. мы будем сравнивать методы, хорошо бы знать достоверный ответ. К счастью, для этого есть Wolfram Mathematica. Для такого интеграла она выдает значение 3,66386. Попробуем прямолинейную методу для разных n:"
   ]
  },
  {
   "cell_type": "code",
   "execution_count": 42,
   "metadata": {
    "scrolled": true
   },
   "outputs": [
    {
     "name": "stderr",
     "output_type": "stream",
     "text": [
      "C:\\Users\\besag\\Anaconda3\\lib\\site-packages\\ipykernel_launcher.py:5: RuntimeWarning: divide by zero encountered in true_divide\n",
      "  \"\"\"\n"
     ]
    },
    {
     "name": "stdout",
     "output_type": "stream",
     "text": [
      "3.41118363861\n",
      "3.58892414137\n",
      "3.64068117824\n",
      "3.65658409673\n",
      "3.66156602806\n",
      "3.66313673269\n"
     ]
    }
   ],
   "source": [
    "print( integrate_rectangles(integrand, a, b, 100) )\n",
    "\n",
    "print( integrate_rectangles(integrand, a, b, 1000) )\n",
    "\n",
    "print( integrate_rectangles(integrand, a, b, 10000) )\n",
    "\n",
    "print( integrate_rectangles(integrand, a, b, 100000) )\n",
    "\n",
    "print( integrate_rectangles(integrand, a, b, 1000000) )\n",
    "\n",
    "print( integrate_rectangles(integrand, a, b, 10000000) )\n"
   ]
  },
  {
   "cell_type": "markdown",
   "metadata": {},
   "source": [
    "Данные числа говорят сами за себя. Метода сходится невероятно медленно, чего и следовало ожидать."
   ]
  },
  {
   "cell_type": "markdown",
   "metadata": {},
   "source": [
    "Попробуем теперь провести реуляризацию следующим образом:"
   ]
  },
  {
   "cell_type": "markdown",
   "metadata": {},
   "source": [
    "$\\int\\limits_0^{\\pi^2/4}\\frac{dx}{\\sin \\sqrt{x}} = \\int\\limits_0^{\\pi^2/4}\\frac{dx}{\\sin \\sqrt{x}} - \\int\\limits_0^{\\pi^2/4}dx(\\frac{1}{\\sin \\sqrt{x}}-\\frac{1}{\\sqrt{x}})+\\pi$ "
   ]
  },
  {
   "cell_type": "code",
   "execution_count": 47,
   "metadata": {},
   "outputs": [],
   "source": [
    "def reg_integrand (x):\n",
    "    \n",
    "    return 1 / np.sin ( np.sqrt(x) ) - 1 / np.sqrt(x)"
   ]
  },
  {
   "cell_type": "markdown",
   "metadata": {},
   "source": [
    "Пробуем регуляризованную методу:"
   ]
  },
  {
   "cell_type": "code",
   "execution_count": 48,
   "metadata": {},
   "outputs": [
    {
     "name": "stdout",
     "output_type": "stream",
     "text": [
      "3.66299430281\n",
      "3.66378422608\n",
      "3.66385484634\n"
     ]
    },
    {
     "name": "stderr",
     "output_type": "stream",
     "text": [
      "C:\\Users\\besag\\Anaconda3\\lib\\site-packages\\ipykernel_launcher.py:3: RuntimeWarning: divide by zero encountered in true_divide\n",
      "  This is separate from the ipykernel package so we can avoid doing imports until\n",
      "C:\\Users\\besag\\Anaconda3\\lib\\site-packages\\ipykernel_launcher.py:3: RuntimeWarning: invalid value encountered in subtract\n",
      "  This is separate from the ipykernel package so we can avoid doing imports until\n"
     ]
    }
   ],
   "source": [
    "print( integrate_rectangles(reg_integrand, a, b, 100) + np.pi)\n",
    "\n",
    "print( integrate_rectangles(reg_integrand, a, b, 1000) + np.pi)\n",
    "\n",
    "print( integrate_rectangles(reg_integrand, a, b, 10000) + np.pi)"
   ]
  },
  {
   "cell_type": "markdown",
   "metadata": {},
   "source": [
    "Очевидно, данная метода работает значительно быстрее, буквально на первом же шагу обгоняя своего конкурента!"
   ]
  },
  {
   "cell_type": "markdown",
   "metadata": {},
   "source": [
    "Теперь ещё интегральчик:"
   ]
  },
  {
   "cell_type": "code",
   "execution_count": 54,
   "metadata": {},
   "outputs": [],
   "source": [
    "def integrand_2 ( x ) :\n",
    "    \n",
    "    return (  1 + x ** 2 ) / np.sqrt ( 1 - x ** 2 )\n",
    "\n",
    "d = - 1"
   ]
  },
  {
   "cell_type": "markdown",
   "metadata": {},
   "source": [
    "Для него Mathematica пророчит число 2,35619. Расходимость у него справа, но функция четна, так что вместо того, чтобы писать левые прямоугольники, я лучше просто буду интегрировать от -1 до 0."
   ]
  },
  {
   "cell_type": "code",
   "execution_count": 56,
   "metadata": {},
   "outputs": [
    {
     "name": "stderr",
     "output_type": "stream",
     "text": [
      "C:\\Users\\besag\\Anaconda3\\lib\\site-packages\\ipykernel_launcher.py:3: RuntimeWarning: divide by zero encountered in true_divide\n",
      "  This is separate from the ipykernel package so we can avoid doing imports until\n"
     ]
    },
    {
     "name": "stdout",
     "output_type": "stream",
     "text": [
      "2.13236393297\n",
      "2.28906889514\n",
      "2.33535759238\n",
      "2.34964506397\n",
      "2.3541273821\n"
     ]
    }
   ],
   "source": [
    "print( integrate_rectangles(integrand_2, d, a, 100) )\n",
    "\n",
    "print( integrate_rectangles(integrand_2, d, a, 1000) )\n",
    "\n",
    "print( integrate_rectangles(integrand_2, d, a, 10000) )\n",
    "\n",
    "print( integrate_rectangles(integrand_2, d, a, 100000) )\n",
    "\n",
    "print( integrate_rectangles(integrand_2, d, a, 1000000) )"
   ]
  },
  {
   "cell_type": "markdown",
   "metadata": {},
   "source": [
    "Ситуация схожа, но имеется очевидная регуляризация:"
   ]
  },
  {
   "cell_type": "markdown",
   "metadata": {},
   "source": [
    "$\\int\\limits_0^1 \\frac{1+x^2}{\\sqrt{1-x^2}}dx = \\int\\limits_0^1 (\\frac{1+x^2}{\\sqrt{1-x^2}} - \\frac{2}{\\sqrt{1-x^2}}) dx + \\pi$"
   ]
  },
  {
   "cell_type": "code",
   "execution_count": 59,
   "metadata": {},
   "outputs": [],
   "source": [
    "def reg_integrand_2 (x):\n",
    "    \n",
    "    return (- 1 + x ** 2 ) / np.sqrt ( 1 - x ** 2 )"
   ]
  },
  {
   "cell_type": "code",
   "execution_count": 61,
   "metadata": {},
   "outputs": [
    {
     "name": "stderr",
     "output_type": "stream",
     "text": [
      "C:\\Users\\besag\\Anaconda3\\lib\\site-packages\\ipykernel_launcher.py:3: RuntimeWarning: invalid value encountered in true_divide\n",
      "  This is separate from the ipykernel package so we can avoid doing imports until\n"
     ]
    },
    {
     "name": "stdout",
     "output_type": "stream",
     "text": [
      "2.35934385701\n",
      "2.35648918968\n",
      "2.35622332402\n",
      "2.35619735347\n"
     ]
    }
   ],
   "source": [
    "print( integrate_rectangles(reg_integrand_2, d, a, 100) + np.pi)\n",
    "\n",
    "print( integrate_rectangles(reg_integrand_2, d, a, 1000) + np.pi)\n",
    "\n",
    "print( integrate_rectangles(reg_integrand_2, d, a, 10000) + np.pi)\n",
    "\n",
    "print( integrate_rectangles(reg_integrand_2, d, a, 100000) + np.pi)"
   ]
  },
  {
   "cell_type": "markdown",
   "metadata": {},
   "source": [
    "И снова регуляризованный интеграл почти сразу считается с хорошей точностью. Метода работает, и она великолепна."
   ]
  }
 ],
 "metadata": {
  "kernelspec": {
   "display_name": "Python 3",
   "language": "python",
   "name": "python3"
  },
  "language_info": {
   "codemirror_mode": {
    "name": "ipython",
    "version": 3
   },
   "file_extension": ".py",
   "mimetype": "text/x-python",
   "name": "python",
   "nbconvert_exporter": "python",
   "pygments_lexer": "ipython3",
   "version": "3.6.5"
  }
 },
 "nbformat": 4,
 "nbformat_minor": 2
}
